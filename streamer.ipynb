{
 "cells": [
  {
   "cell_type": "code",
   "execution_count": 1,
   "id": "b535ecb7",
   "metadata": {},
   "outputs": [],
   "source": [
    "import mindspore as ms\n",
    "ms.set_context(mode=0, device_target=\"Ascend\", device_id=7)\n",
    "# ms.set_context(mode=0, device_target=\"CPU\")"
   ]
  },
  {
   "cell_type": "code",
   "execution_count": 2,
   "id": "e8e6a233",
   "metadata": {},
   "outputs": [
    {
     "name": "stdout",
     "output_type": "stream",
     "text": [
      "2023-09-07 23:41:19,661 - mindformers - INFO - config in the yaml file ./checkpoint_download/gpt2/gpt2.yaml are used for tokenizer building.\n",
      "2023-09-07 23:41:19,682 - mindformers - WARNING - Can't find the tokenizer_config.json in the file_dict. The content of file_dict is : {}\n",
      "2023-09-07 23:41:19,683 - mindformers - INFO - build tokenizer class name is: GPT2Tokenizer using args {'unk_token': '<|endoftext|>', 'bos_token': '<|endoftext|>', 'eos_token': '<|endoftext|>', 'pad_token': '<|endoftext|>', 'vocab_file': './checkpoint_download/gpt2/vocab.json', 'merges_file': './checkpoint_download/gpt2/merges.txt'}.\n"
     ]
    },
    {
     "name": "stderr",
     "output_type": "stream",
     "text": [
      "[WARNING] ME(55328:139783019255360,MainProcess):2023-09-07-23:41:20.232.210 [mindspore/ops/primitive.py:228] The in_strategy of the operator in your network will not take effect in stand_alone mode. This means the the shard function called in the network is ignored. \n",
      "If you want to enable it, please use semi auto or auto parallel mode by context.set_auto_parallel_context(parallel_mode=ParallelMode.SEMI_AUTO_PARALLEL or context.set_auto_parallel_context(parallel_mode=ParallelMode.AUTO_PARALLEL)\n",
      "[WARNING] ME(55328:139783019255360,MainProcess):2023-09-07-23:41:20.388.716 [mindspore/common/_decorator.py:40] 'DropoutGenMask' is deprecated from version 1.5 and will be removed in a future version, use 'ops.Dropout' instead.\n",
      "[WARNING] ME(55328:139783019255360,MainProcess):2023-09-07-23:41:20.389.712 [mindspore/common/_decorator.py:40] 'DropoutDoMask' is deprecated from version 1.5 and will be removed in a future version, use 'ops.Dropout' instead.\n",
      "[WARNING] ME(55328:139783019255360,MainProcess):2023-09-07-23:41:20.390.563 [mindspore/common/parameter.py:778] This interface may be deleted in the future.\n"
     ]
    },
    {
     "name": "stdout",
     "output_type": "stream",
     "text": [
      "2023-09-07 23:41:20,960 - mindformers - INFO - start to read the ckpt file: 497772028\n",
      "2023-09-07 23:41:22,349 - mindformers - INFO - weights in ./checkpoint_download/gpt2/gpt2.ckpt are loaded\n",
      "2023-09-07 23:41:22,356 - mindformers - INFO - model built successfully!\n"
     ]
    }
   ],
   "source": [
    "from mindformers import GPT2LMHeadModel, GPT2Tokenizer, TextStreamer, TextIteratorStreamer, BatchTextIteratorStreamer\n",
    "tok = GPT2Tokenizer.from_pretrained(\"gpt2\")\n",
    "model = GPT2LMHeadModel.from_pretrained(\"gpt2\")\n",
    "\n",
    "# streamer = TextStreamer(tok)\n",
    "# iter_streamer = TextIteratorStreamer(tok, skip_prompt=True, use_spm=False, timeout=1.5)\n",
    "batch_streamer = BatchTextIteratorStreamer(tok, skip_prompt=True, use_spm=False, timeout=60)"
   ]
  },
  {
   "cell_type": "code",
   "execution_count": 14,
   "id": "b8402f9e",
   "metadata": {},
   "outputs": [],
   "source": [
    "text2 = [\"An increasing sequence: one,\", \n",
    "         \"I love Beijing, because\",\n",
    "         \"hello world\", \n",
    "         \"the largest planet in the solar system is\",\n",
    "         \"just write a english poem\",\n",
    "         \"the highest mountain in the world is\",\n",
    "         \"the capital of America is\",\n",
    "         \"the ancester of human being is\",\n",
    "         \"now I become the death,\"]\n",
    "inputs2 = tok(text2, max_length=8, padding='max_length')"
   ]
  },
  {
   "cell_type": "code",
   "execution_count": 15,
   "id": "ce0d339f",
   "metadata": {},
   "outputs": [
    {
     "data": {
      "text/plain": [
       "[[2025, 3649, 8379, 25, 530, 11, 50256, 50256],\n",
       " [40, 1842, 11618, 11, 780, 50256, 50256, 50256],\n",
       " [31373, 995, 50256, 50256, 50256, 50256, 50256, 50256],\n",
       " [1169, 4387, 5440, 287, 262, 6591, 1080, 318],\n",
       " [3137, 3551, 257, 46932, 21247, 50256, 50256, 50256],\n",
       " [1169, 4511, 8598, 287, 262, 995, 318, 50256],\n",
       " [1169, 3139, 286, 2253, 318, 50256, 50256, 50256],\n",
       " [1169, 281, 33187, 286, 1692, 852, 318, 50256],\n",
       " [2197, 314, 1716, 262, 1918, 11, 50256, 50256]]"
      ]
     },
     "execution_count": 15,
     "metadata": {},
     "output_type": "execute_result"
    }
   ],
   "source": [
    "inputs2['input_ids']"
   ]
  },
  {
   "cell_type": "code",
   "execution_count": 16,
   "id": "2d0310cf",
   "metadata": {},
   "outputs": [],
   "source": [
    "input_batch = inputs2['input_ids']\n",
    "bs = len(input_batch)"
   ]
  },
  {
   "cell_type": "code",
   "execution_count": 19,
   "id": "026b3c79",
   "metadata": {},
   "outputs": [],
   "source": [
    "# 单线程\n",
    "from threading import Thread\n",
    "generation_kwargs = dict(\n",
    "    input_ids=input_batch,\n",
    "    streamer=batch_streamer,\n",
    "    max_length=20,\n",
    "    top_k=1\n",
    ")"
   ]
  },
  {
   "cell_type": "code",
   "execution_count": 33,
   "id": "214a4272",
   "metadata": {},
   "outputs": [],
   "source": [
    "batch_streamer.clear()"
   ]
  },
  {
   "cell_type": "code",
   "execution_count": 34,
   "id": "702b8b03",
   "metadata": {},
   "outputs": [
    {
     "name": "stdout",
     "output_type": "stream",
     "text": [
      "origin_inputs[0]: [ 2025  3649  8379    25   530    11 50256 50256]\n",
      "origin_inputs[1]: [   40  1842 11618    11   780 50256 50256 50256]\n",
      "origin_inputs[2]: [31373   995 50256 50256 50256 50256 50256 50256]\n",
      "origin_inputs[3]: [1169 4387 5440  287  262 6591 1080  318]\n",
      "origin_inputs[4]: [ 3137  3551   257 46932 21247 50256 50256 50256]\n",
      "origin_inputs[5]: [ 1169  4511  8598   287   262   995   318 50256]\n",
      "origin_inputs[6]: [ 1169  3139   286  2253   318 50256 50256 50256]\n",
      "origin_inputs[7]: [ 1169   281 33187   286  1692   852   318 50256]\n",
      "origin_inputs[8]: [ 2197   314  1716   262  1918    11 50256 50256]\n"
     ]
    }
   ],
   "source": [
    "thread = Thread(target=model.generate, kwargs=generation_kwargs)\n",
    "thread.start()"
   ]
  },
  {
   "cell_type": "code",
   "execution_count": 35,
   "id": "6eda8a07",
   "metadata": {},
   "outputs": [
    {
     "name": "stdout",
     "output_type": "stream",
     "text": [
      "thread.start! \n",
      "streamer_batch: [' ', ' ', '', ' ', '', ' ', ' ', ' ', ' ']\n",
      "streamer_batch: ['', '', '.\\n', 'about ', '.\\n', 'the ', 'the ', 'the ', 'and ']\n",
      "streamer_batch: ['two, ', \"it's \", '\\n', '', '\\n', '', 'United ', 'most ', 'the ']\n",
      "streamer_batch: ['', 'a ', '', '', '', '', 'States ', 'beautiful ', 'resurrection ']\n",
      "streamer_batch: ['three, ', 'beautiful ', 'The ', '1.5 ', '', '', 'of ', 'thing ', 'of ']\n",
      "streamer_batch: ['', '', 'first ', 'billion ', \"I'm \", 'Himalayas, ', '', 'in ', 'the ']\n",
      "streamer_batch: ['four, ', 'city. ', 'thing ', '', 'not ', 'which ', 'America, ', 'the ', '']\n",
      "streamer_batch: ['', '', 'I ', '', 'sure ', 'is ', 'and ', '', 'dead.\\n']\n",
      "streamer_batch: ['five, ', \"It's \", 'noticed ', 'light-years ', 'if ', 'the ', 'the ', 'world, ', '\\n']\n",
      "streamer_batch: ['', 'a ', 'was ', '', 'you ', 'highest ', 'United ', 'and ', '']\n",
      "streamer_batch: ['six, ', 'beautiful ', 'that ', 'away.\\n', 'can ', 'mountain ', 'States ', 'the ', 'The ']\n",
      "streamer_batch: ['', '', 'the ', '\\n', 'read ', 'in ', 'of ', 'most ', 'first ']\n",
      "2023-09-07 23:50:17,405 - mindformers - INFO - total time: 13.884050846099854 s; generated tokens: 129 tokens; generate speed: 9.291236500782276 tokens/s\n",
      "streamer_batch: ['seven, ', 'city. ', 'first ', '', '', 'the ', 'America ', 'beautiful ', 'thing ']\n",
      "streamer_batch: ['', '', 'thing ', '', 'it, ', 'world', 'is ', 'thing', 'I ']\n",
      "streamer_batch: ['eight,', \"It's \", 'I ', '', 'but ', '', 'the ', '', 'do']\n",
      "streamer_batch: ['', 'a', 'noticed ', '', 'I', '', 'United', '', '']\n",
      "streamer_batch: ['', '', 'was ', '', '', '', '', '', '']\n",
      "streamer_batch: ['', '', 'that ', '', '', '', '', '', '']\n",
      "streamer_batch: ['', '', 'the', '', '', '', '', '', '']\n",
      " ===== For loop over! ===== \n"
     ]
    }
   ],
   "source": [
    "output = [\"\"] * bs\n",
    "print(\"thread.start! \")\n",
    "for new_text in batch_streamer:\n",
    "    print(\"streamer_batch:\", new_text)\n",
    "    for i in range(bs):\n",
    "        output[i] += new_text[i]\n",
    "print(\" ===== For loop over! ===== \")"
   ]
  },
  {
   "cell_type": "code",
   "execution_count": 36,
   "id": "2bed86fa",
   "metadata": {},
   "outputs": [],
   "source": [
    "# thread.join()"
   ]
  },
  {
   "cell_type": "code",
   "execution_count": 37,
   "id": "a5a1bd33",
   "metadata": {
    "scrolled": true
   },
   "outputs": [
    {
     "data": {
      "text/plain": [
       "[' two, three, four, five, six, seven, eight,',\n",
       " \" it's a beautiful city. It's a beautiful city. It's a\",\n",
       " '.\\n\\nThe first thing I noticed was that the first thing I noticed was that the',\n",
       " ' about 1.5 billion light-years away.\\n\\n',\n",
       " \".\\n\\nI'm not sure if you can read it, but I\",\n",
       " ' the Himalayas, which is the highest mountain in the world',\n",
       " ' the United States of America, and the United States of America is the United',\n",
       " ' the most beautiful thing in the world, and the most beautiful thing',\n",
       " ' and the resurrection of the dead.\\n\\nThe first thing I do']"
      ]
     },
     "execution_count": 37,
     "metadata": {},
     "output_type": "execute_result"
    }
   ],
   "source": [
    "output"
   ]
  },
  {
   "cell_type": "code",
   "execution_count": 20,
   "id": "78eaec2f",
   "metadata": {},
   "outputs": [
    {
     "name": "stdout",
     "output_type": "stream",
     "text": [
      "origin_inputs[0]: [ 2025  3649  8379    25   530    11 50256 50256]\n",
      "origin_inputs[1]: [   40  1842 11618    11   780 50256 50256 50256]\n",
      "origin_inputs[2]: [31373   995 50256 50256 50256 50256 50256 50256]\n",
      "origin_inputs[3]: [1169 4387 5440  287  262 6591 1080  318]\n",
      "origin_inputs[4]: [ 2025  3649  8379    25   530    11 50256 50256]\n",
      "origin_inputs[5]: [   40  1842 11618    11   780 50256 50256 50256]\n",
      "origin_inputs[6]: [31373   995 50256 50256 50256 50256 50256 50256]\n",
      "origin_inputs[7]: [1169 4387 5440  287  262 6591 1080  318]\n",
      "origin_inputs[8]: [ 2025  3649  8379    25   530    11 50256 50256]\n",
      "origin_inputs[9]: [   40  1842 11618    11   780 50256 50256 50256]\n",
      "origin_inputs[10]: [31373   995 50256 50256 50256 50256 50256 50256]\n",
      "origin_inputs[11]: [1169 4387 5440  287  262 6591 1080  318]\n",
      "origin_inputs[12]: [ 2025  3649  8379    25   530    11 50256 50256]\n",
      "origin_inputs[13]: [   40  1842 11618    11   780 50256 50256 50256]\n",
      "origin_inputs[14]: [31373   995 50256 50256 50256 50256 50256 50256]\n",
      "origin_inputs[15]: [1169 4387 5440  287  262 6591 1080  318]\n",
      "origin_inputs[16]: [ 2025  3649  8379    25   530    11 50256 50256]\n",
      "origin_inputs[17]: [   40  1842 11618    11   780 50256 50256 50256]\n",
      "origin_inputs[18]: [31373   995 50256 50256 50256 50256 50256 50256]\n",
      "origin_inputs[19]: [1169 4387 5440  287  262 6591 1080  318]\n",
      "origin_inputs[20]: [ 2025  3649  8379    25   530    11 50256 50256]\n",
      "origin_inputs[21]: [   40  1842 11618    11   780 50256 50256 50256]\n",
      "origin_inputs[22]: [31373   995 50256 50256 50256 50256 50256 50256]\n",
      "origin_inputs[23]: [1169 4387 5440  287  262 6591 1080  318]\n",
      "origin_inputs[24]: [ 2025  3649  8379    25   530    11 50256 50256]\n",
      "origin_inputs[25]: [   40  1842 11618    11   780 50256 50256 50256]\n",
      "origin_inputs[26]: [31373   995 50256 50256 50256 50256 50256 50256]\n",
      "origin_inputs[27]: [1169 4387 5440  287  262 6591 1080  318]\n",
      "origin_inputs[28]: [ 2025  3649  8379    25   530    11 50256 50256]\n",
      "origin_inputs[29]: [   40  1842 11618    11   780 50256 50256 50256]\n",
      "origin_inputs[30]: [31373   995 50256 50256 50256 50256 50256 50256]\n",
      "origin_inputs[31]: [1169 4387 5440  287  262 6591 1080  318]\n",
      "origin_inputs[32]: [ 2025  3649  8379    25   530    11 50256 50256]\n",
      "origin_inputs[33]: [   40  1842 11618    11   780 50256 50256 50256]\n",
      "origin_inputs[34]: [31373   995 50256 50256 50256 50256 50256 50256]\n",
      "origin_inputs[35]: [1169 4387 5440  287  262 6591 1080  318]\n",
      "origin_inputs[36]: [ 2025  3649  8379    25   530    11 50256 50256]\n",
      "origin_inputs[37]: [   40  1842 11618    11   780 50256 50256 50256]\n",
      "origin_inputs[38]: [31373   995 50256 50256 50256 50256 50256 50256]\n",
      "origin_inputs[39]: [1169 4387 5440  287  262 6591 1080  318]\n",
      "2023-09-07 17:59:17,148 - mindformers - INFO - total time: 99.68944191932678 s; generated tokens: 590 tokens; generate speed: 5.918380007357798 tokens/s\n"
     ]
    },
    {
     "data": {
      "text/plain": [
       "['An increasing sequence: one, two, three, four, five, six, seven, eight,',\n",
       " \"I love Beijing, because it's a beautiful city. It's a beautiful city. It's a\",\n",
       " 'hello world.\\n\\nThe first thing I noticed was that the first thing I noticed was that the',\n",
       " 'the largest planet in the solar system is about 1.5 billion light-years away.\\n\\n',\n",
       " 'An increasing sequence: one, two, three, four, five, six, seven, eight,',\n",
       " \"I love Beijing, because it's a beautiful city. It's a beautiful city. It's a\",\n",
       " 'hello world.\\n\\nThe first thing I noticed was that the first thing I noticed was that the',\n",
       " 'the largest planet in the solar system is about 1.5 billion light-years away.\\n\\n',\n",
       " 'An increasing sequence: one, two, three, four, five, six, seven, eight,',\n",
       " \"I love Beijing, because it's a beautiful city. It's a beautiful city. It's a\",\n",
       " 'hello world.\\n\\nThe first thing I noticed was that the first thing I noticed was that the',\n",
       " 'the largest planet in the solar system is about 1.5 billion light-years away.\\n\\n',\n",
       " 'An increasing sequence: one, two, three, four, five, six, seven, eight,',\n",
       " \"I love Beijing, because it's a beautiful city. It's a beautiful city. It's a\",\n",
       " 'hello world.\\n\\nThe first thing I noticed was that the first thing I noticed was that the',\n",
       " 'the largest planet in the solar system is about 1.5 billion light-years away.\\n\\n',\n",
       " 'An increasing sequence: one, two, three, four, five, six, seven, eight,',\n",
       " \"I love Beijing, because it's a beautiful city. It's a beautiful city. It's a\",\n",
       " 'hello world.\\n\\nThe first thing I noticed was that the first thing I noticed was that the',\n",
       " 'the largest planet in the solar system is about 1.5 billion light-years away.\\n\\n',\n",
       " 'An increasing sequence: one, two, three, four, five, six, seven, eight,',\n",
       " \"I love Beijing, because it's a beautiful city. It's a beautiful city. It's a\",\n",
       " 'hello world.\\n\\nThe first thing I noticed was that the first thing I noticed was that the',\n",
       " 'the largest planet in the solar system is about 1.5 billion light-years away.\\n\\n',\n",
       " 'An increasing sequence: one, two, three, four, five, six, seven, eight,',\n",
       " \"I love Beijing, because it's a beautiful city. It's a beautiful city. It's a\",\n",
       " 'hello world.\\n\\nThe first thing I noticed was that the first thing I noticed was that the',\n",
       " 'the largest planet in the solar system is about 1.5 billion light-years away.\\n\\n',\n",
       " 'An increasing sequence: one, two, three, four, five, six, seven, eight,',\n",
       " \"I love Beijing, because it's a beautiful city. It's a beautiful city. It's a\",\n",
       " 'hello world.\\n\\nThe first thing I noticed was that the first thing I noticed was that the',\n",
       " 'the largest planet in the solar system is about 1.5 billion light-years away.\\n\\n',\n",
       " 'An increasing sequence: one, two, three, four, five, six, seven, eight,',\n",
       " \"I love Beijing, because it's a beautiful city. It's a beautiful city. It's a\",\n",
       " 'hello world.\\n\\nThe first thing I noticed was that the first thing I noticed was that the',\n",
       " 'the largest planet in the solar system is about 1.5 billion light-years away.\\n\\n',\n",
       " 'An increasing sequence: one, two, three, four, five, six, seven, eight,',\n",
       " \"I love Beijing, because it's a beautiful city. It's a beautiful city. It's a\",\n",
       " 'hello world.\\n\\nThe first thing I noticed was that the first thing I noticed was that the',\n",
       " 'the largest planet in the solar system is about 1.5 billion light-years away.\\n\\n']"
      ]
     },
     "execution_count": 20,
     "metadata": {},
     "output_type": "execute_result"
    }
   ],
   "source": [
    "# 不做线程\n",
    "result = model.generate(input_batch, streamer=batch_streamer, max_length=20, top_k=1)\n",
    "batch_streamer.tokenizer.decode(result)"
   ]
  },
  {
   "cell_type": "code",
   "execution_count": 21,
   "id": "9e13b40f",
   "metadata": {},
   "outputs": [
    {
     "name": "stdout",
     "output_type": "stream",
     "text": [
      "streamer iter: [' ', ' ', '', ' ', ' ', ' ', '', ' ', ' ', ' ', '', ' ', ' ', ' ', '', ' ', ' ', ' ', '', ' ', ' ', ' ', '', ' ', ' ', ' ', '', ' ', ' ', ' ', '', ' ', ' ', ' ', '', ' ', ' ', ' ', '', ' ']\n",
      "streamer iter: ['', '', '.\\n', 'about ', '', '', '.\\n', 'about ', '', '', '.\\n', 'about ', '', '', '.\\n', 'about ', '', '', '.\\n', 'about ', '', '', '.\\n', 'about ', '', '', '.\\n', 'about ', '', '', '.\\n', 'about ', '', '', '.\\n', 'about ', '', '', '.\\n', 'about ']\n",
      "streamer iter: ['two, ', \"it's \", '\\n', '', 'two, ', \"it's \", '\\n', '', 'two, ', \"it's \", '\\n', '', 'two, ', \"it's \", '\\n', '', 'two, ', \"it's \", '\\n', '', 'two, ', \"it's \", '\\n', '', 'two, ', \"it's \", '\\n', '', 'two, ', \"it's \", '\\n', '', 'two, ', \"it's \", '\\n', '', 'two, ', \"it's \", '\\n', '']\n",
      "streamer iter: ['', 'a ', '', '', '', 'a ', '', '', '', 'a ', '', '', '', 'a ', '', '', '', 'a ', '', '', '', 'a ', '', '', '', 'a ', '', '', '', 'a ', '', '', '', 'a ', '', '', '', 'a ', '', '']\n",
      "streamer iter: ['three, ', 'beautiful ', 'The ', '1.5 ', 'three, ', 'beautiful ', 'The ', '1.5 ', 'three, ', 'beautiful ', 'The ', '1.5 ', 'three, ', 'beautiful ', 'The ', '1.5 ', 'three, ', 'beautiful ', 'The ', '1.5 ', 'three, ', 'beautiful ', 'The ', '1.5 ', 'three, ', 'beautiful ', 'The ', '1.5 ', 'three, ', 'beautiful ', 'The ', '1.5 ', 'three, ', 'beautiful ', 'The ', '1.5 ', 'three, ', 'beautiful ', 'The ', '1.5 ']\n",
      "streamer iter: ['', '', 'first ', 'billion ', '', '', 'first ', 'billion ', '', '', 'first ', 'billion ', '', '', 'first ', 'billion ', '', '', 'first ', 'billion ', '', '', 'first ', 'billion ', '', '', 'first ', 'billion ', '', '', 'first ', 'billion ', '', '', 'first ', 'billion ', '', '', 'first ', 'billion ']\n",
      "streamer iter: ['four, ', 'city. ', 'thing ', '', 'four, ', 'city. ', 'thing ', '', 'four, ', 'city. ', 'thing ', '', 'four, ', 'city. ', 'thing ', '', 'four, ', 'city. ', 'thing ', '', 'four, ', 'city. ', 'thing ', '', 'four, ', 'city. ', 'thing ', '', 'four, ', 'city. ', 'thing ', '', 'four, ', 'city. ', 'thing ', '', 'four, ', 'city. ', 'thing ', '']\n",
      "streamer iter: ['', '', 'I ', '', '', '', 'I ', '', '', '', 'I ', '', '', '', 'I ', '', '', '', 'I ', '', '', '', 'I ', '', '', '', 'I ', '', '', '', 'I ', '', '', '', 'I ', '', '', '', 'I ', '']\n",
      "streamer iter: ['five, ', \"It's \", 'noticed ', 'light-years ', 'five, ', \"It's \", 'noticed ', 'light-years ', 'five, ', \"It's \", 'noticed ', 'light-years ', 'five, ', \"It's \", 'noticed ', 'light-years ', 'five, ', \"It's \", 'noticed ', 'light-years ', 'five, ', \"It's \", 'noticed ', 'light-years ', 'five, ', \"It's \", 'noticed ', 'light-years ', 'five, ', \"It's \", 'noticed ', 'light-years ', 'five, ', \"It's \", 'noticed ', 'light-years ', 'five, ', \"It's \", 'noticed ', 'light-years ']\n",
      "streamer iter: ['', 'a ', 'was ', '', '', 'a ', 'was ', '', '', 'a ', 'was ', '', '', 'a ', 'was ', '', '', 'a ', 'was ', '', '', 'a ', 'was ', '', '', 'a ', 'was ', '', '', 'a ', 'was ', '', '', 'a ', 'was ', '', '', 'a ', 'was ', '']\n",
      "streamer iter: ['six, ', 'beautiful ', 'that ', 'away.\\n', 'six, ', 'beautiful ', 'that ', 'away.\\n', 'six, ', 'beautiful ', 'that ', 'away.\\n', 'six, ', 'beautiful ', 'that ', 'away.\\n', 'six, ', 'beautiful ', 'that ', 'away.\\n', 'six, ', 'beautiful ', 'that ', 'away.\\n', 'six, ', 'beautiful ', 'that ', 'away.\\n', 'six, ', 'beautiful ', 'that ', 'away.\\n', 'six, ', 'beautiful ', 'that ', 'away.\\n', 'six, ', 'beautiful ', 'that ', 'away.\\n']\n",
      "streamer iter: ['', '', 'the ', '\\n', '', '', 'the ', '\\n', '', '', 'the ', '\\n', '', '', 'the ', '\\n', '', '', 'the ', '\\n', '', '', 'the ', '\\n', '', '', 'the ', '\\n', '', '', 'the ', '\\n', '', '', 'the ', '\\n', '', '', 'the ', '\\n']\n",
      "streamer iter: ['seven, ', 'city. ', 'first ', '', 'seven, ', 'city. ', 'first ', '', 'seven, ', 'city. ', 'first ', '', 'seven, ', 'city. ', 'first ', '', 'seven, ', 'city. ', 'first ', '', 'seven, ', 'city. ', 'first ', '', 'seven, ', 'city. ', 'first ', '', 'seven, ', 'city. ', 'first ', '', 'seven, ', 'city. ', 'first ', '', 'seven, ', 'city. ', 'first ', '']\n",
      "streamer iter: ['', '', 'thing ', '', '', '', 'thing ', '', '', '', 'thing ', '', '', '', 'thing ', '', '', '', 'thing ', '', '', '', 'thing ', '', '', '', 'thing ', '', '', '', 'thing ', '', '', '', 'thing ', '', '', '', 'thing ', '']\n",
      "streamer iter: ['eight,', \"It's \", 'I ', '', 'eight,', \"It's \", 'I ', '', 'eight,', \"It's \", 'I ', '', 'eight,', \"It's \", 'I ', '', 'eight,', \"It's \", 'I ', '', 'eight,', \"It's \", 'I ', '', 'eight,', \"It's \", 'I ', '', 'eight,', \"It's \", 'I ', '', 'eight,', \"It's \", 'I ', '', 'eight,', \"It's \", 'I ', '']\n",
      "streamer iter: ['', 'a', 'noticed ', '', '', 'a', 'noticed ', '', '', 'a', 'noticed ', '', '', 'a', 'noticed ', '', '', 'a', 'noticed ', '', '', 'a', 'noticed ', '', '', 'a', 'noticed ', '', '', 'a', 'noticed ', '', '', 'a', 'noticed ', '', '', 'a', 'noticed ', '']\n",
      "streamer iter: ['', '', 'was ', '', '', '', 'was ', '', '', '', 'was ', '', '', '', 'was ', '', '', '', 'was ', '', '', '', 'was ', '', '', '', 'was ', '', '', '', 'was ', '', '', '', 'was ', '', '', '', 'was ', '']\n",
      "streamer iter: ['', '', 'that ', '', '', '', 'that ', '', '', '', 'that ', '', '', '', 'that ', '', '', '', 'that ', '', '', '', 'that ', '', '', '', 'that ', '', '', '', 'that ', '', '', '', 'that ', '', '', '', 'that ', '']\n",
      "streamer iter: ['', '', 'the', '', '', '', 'the', '', '', '', 'the', '', '', '', 'the', '', '', '', 'the', '', '', '', 'the', '', '', '', 'the', '', '', '', 'the', '', '', '', 'the', '', '', '', 'the', '']\n"
     ]
    }
   ],
   "source": [
    "output = [\"\"] * bs\n",
    "for new_text_batch in batch_streamer:\n",
    "    print(\"streamer iter:\", new_text_batch)\n",
    "    for i in range(bs):\n",
    "        output[i] += new_text_batch[i]"
   ]
  },
  {
   "cell_type": "code",
   "execution_count": 22,
   "id": "79c0efc4",
   "metadata": {},
   "outputs": [
    {
     "data": {
      "text/plain": [
       "[' two, three, four, five, six, seven, eight,',\n",
       " \" it's a beautiful city. It's a beautiful city. It's a\",\n",
       " '.\\n\\nThe first thing I noticed was that the first thing I noticed was that the',\n",
       " ' about 1.5 billion light-years away.\\n\\n',\n",
       " ' two, three, four, five, six, seven, eight,',\n",
       " \" it's a beautiful city. It's a beautiful city. It's a\",\n",
       " '.\\n\\nThe first thing I noticed was that the first thing I noticed was that the',\n",
       " ' about 1.5 billion light-years away.\\n\\n',\n",
       " ' two, three, four, five, six, seven, eight,',\n",
       " \" it's a beautiful city. It's a beautiful city. It's a\",\n",
       " '.\\n\\nThe first thing I noticed was that the first thing I noticed was that the',\n",
       " ' about 1.5 billion light-years away.\\n\\n',\n",
       " ' two, three, four, five, six, seven, eight,',\n",
       " \" it's a beautiful city. It's a beautiful city. It's a\",\n",
       " '.\\n\\nThe first thing I noticed was that the first thing I noticed was that the',\n",
       " ' about 1.5 billion light-years away.\\n\\n',\n",
       " ' two, three, four, five, six, seven, eight,',\n",
       " \" it's a beautiful city. It's a beautiful city. It's a\",\n",
       " '.\\n\\nThe first thing I noticed was that the first thing I noticed was that the',\n",
       " ' about 1.5 billion light-years away.\\n\\n',\n",
       " ' two, three, four, five, six, seven, eight,',\n",
       " \" it's a beautiful city. It's a beautiful city. It's a\",\n",
       " '.\\n\\nThe first thing I noticed was that the first thing I noticed was that the',\n",
       " ' about 1.5 billion light-years away.\\n\\n',\n",
       " ' two, three, four, five, six, seven, eight,',\n",
       " \" it's a beautiful city. It's a beautiful city. It's a\",\n",
       " '.\\n\\nThe first thing I noticed was that the first thing I noticed was that the',\n",
       " ' about 1.5 billion light-years away.\\n\\n',\n",
       " ' two, three, four, five, six, seven, eight,',\n",
       " \" it's a beautiful city. It's a beautiful city. It's a\",\n",
       " '.\\n\\nThe first thing I noticed was that the first thing I noticed was that the',\n",
       " ' about 1.5 billion light-years away.\\n\\n',\n",
       " ' two, three, four, five, six, seven, eight,',\n",
       " \" it's a beautiful city. It's a beautiful city. It's a\",\n",
       " '.\\n\\nThe first thing I noticed was that the first thing I noticed was that the',\n",
       " ' about 1.5 billion light-years away.\\n\\n',\n",
       " ' two, three, four, five, six, seven, eight,',\n",
       " \" it's a beautiful city. It's a beautiful city. It's a\",\n",
       " '.\\n\\nThe first thing I noticed was that the first thing I noticed was that the',\n",
       " ' about 1.5 billion light-years away.\\n\\n']"
      ]
     },
     "execution_count": 22,
     "metadata": {},
     "output_type": "execute_result"
    }
   ],
   "source": [
    "output"
   ]
  },
  {
   "cell_type": "code",
   "execution_count": 14,
   "id": "32305ff0",
   "metadata": {},
   "outputs": [],
   "source": [
    "batch_streamer.clear()"
   ]
  },
  {
   "cell_type": "code",
   "execution_count": 62,
   "id": "3eeceda1",
   "metadata": {},
   "outputs": [],
   "source": [
    "# streamer1 = {1: \"as\", 2: \"asd\", 3: \"21\", 4: \"asz\"}\n",
    "# streamer2 = {1: \"qweq\", 2: \"zxc\", 3: \"13\"}\n",
    "# streamers = {1: iter(streamer1.values()), 2: iter(streamer2.values())}"
   ]
  },
  {
   "cell_type": "code",
   "execution_count": 21,
   "id": "1bd22c12",
   "metadata": {},
   "outputs": [],
   "source": [
    "# iter_batch_out = {}\n",
    "# is_done = True\n",
    "# for i, streamer in streamers.items():\n",
    "#     try:\n",
    "#         iter_batch_out[i] = next(streamer)\n",
    "#         is_done = False\n",
    "#     except StopIteration:\n",
    "#         iter_batch_out[i] = \"\"\n",
    "# if is_done:\n",
    "#     raise StopIteration"
   ]
  },
  {
   "cell_type": "code",
   "execution_count": null,
   "id": "ae58eb3b",
   "metadata": {},
   "outputs": [],
   "source": []
  }
 ],
 "metadata": {
  "kernelspec": {
   "display_name": "Python 3 (ipykernel)",
   "language": "python",
   "name": "python3"
  },
  "language_info": {
   "codemirror_mode": {
    "name": "ipython",
    "version": 3
   },
   "file_extension": ".py",
   "mimetype": "text/x-python",
   "name": "python",
   "nbconvert_exporter": "python",
   "pygments_lexer": "ipython3",
   "version": "3.7.16"
  }
 },
 "nbformat": 4,
 "nbformat_minor": 5
}
