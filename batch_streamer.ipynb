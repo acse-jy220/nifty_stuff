{
 "cells": [
  {
   "cell_type": "code",
   "execution_count": 1,
   "id": "b535ecb7",
   "metadata": {},
   "outputs": [],
   "source": [
    "import mindspore as ms\n",
    "ms.set_context(mode=0, device_target=\"Ascend\", device_id=7)"
   ]
  },
  {
   "cell_type": "code",
   "execution_count": 2,
   "id": "e8e6a233",
   "metadata": {},
   "outputs": [
    {
     "name": "stdout",
     "output_type": "stream",
     "text": [
      "2023-09-11 15:40:46,517 - mindformers - INFO - config in the yaml file ./checkpoint_download/gpt2/gpt2.yaml are used for tokenizer building.\n",
      "2023-09-11 15:40:46,537 - mindformers - WARNING - Can't find the tokenizer_config.json in the file_dict. The content of file_dict is : {}\n",
      "2023-09-11 15:40:46,538 - mindformers - INFO - build tokenizer class name is: GPT2Tokenizer using args {'unk_token': '<|endoftext|>', 'bos_token': '<|endoftext|>', 'eos_token': '<|endoftext|>', 'pad_token': '<|endoftext|>', 'vocab_file': './checkpoint_download/gpt2/vocab.json', 'merges_file': './checkpoint_download/gpt2/merges.txt'}.\n"
     ]
    },
    {
     "name": "stderr",
     "output_type": "stream",
     "text": [
      "[WARNING] ME(71025:139943617136192,MainProcess):2023-09-11-15:40:47.944.88 [mindspore/ops/primitive.py:228] The in_strategy of the operator in your network will not take effect in stand_alone mode. This means the the shard function called in the network is ignored. \n",
      "If you want to enable it, please use semi auto or auto parallel mode by context.set_auto_parallel_context(parallel_mode=ParallelMode.SEMI_AUTO_PARALLEL or context.set_auto_parallel_context(parallel_mode=ParallelMode.AUTO_PARALLEL)\n",
      "[WARNING] ME(71025:139943617136192,MainProcess):2023-09-11-15:40:47.244.503 [mindspore/common/_decorator.py:40] 'DropoutGenMask' is deprecated from version 1.5 and will be removed in a future version, use 'ops.Dropout' instead.\n",
      "[WARNING] ME(71025:139943617136192,MainProcess):2023-09-11-15:40:47.245.401 [mindspore/common/_decorator.py:40] 'DropoutDoMask' is deprecated from version 1.5 and will be removed in a future version, use 'ops.Dropout' instead.\n",
      "[WARNING] ME(71025:139943617136192,MainProcess):2023-09-11-15:40:47.246.221 [mindspore/common/parameter.py:778] This interface may be deleted in the future.\n"
     ]
    },
    {
     "name": "stdout",
     "output_type": "stream",
     "text": [
      "2023-09-11 15:40:47,800 - mindformers - INFO - start to read the ckpt file: 497772028\n",
      "2023-09-11 15:40:49,148 - mindformers - INFO - weights in ./checkpoint_download/gpt2/gpt2.ckpt are loaded\n",
      "2023-09-11 15:40:49,152 - mindformers - INFO - model built successfully!\n"
     ]
    }
   ],
   "source": [
    "from mindformers import GPT2LMHeadModel, GPT2Tokenizer, TextStreamer, TextIteratorStreamer\n",
    "tok = GPT2Tokenizer.from_pretrained(\"gpt2\")\n",
    "model = GPT2LMHeadModel.from_pretrained(\"gpt2\")"
   ]
  },
  {
   "cell_type": "code",
   "execution_count": 62,
   "id": "b8402f9e",
   "metadata": {},
   "outputs": [],
   "source": [
    "text2 = [\"An increasing sequence: one,\", \n",
    "         \"I love Beijing, because\",\n",
    "         \"The highest mountain in the world is\",\n",
    "         \"The largest country in the world is\",\n",
    "         \"The largest river in China is\",\n",
    "         \"Singapore is located\",\n",
    "         \"The population in China is\",\n",
    "         \"The atomic bombs were invented in\"]"
   ]
  },
  {
   "cell_type": "code",
   "execution_count": 63,
   "id": "5eeb3aa8",
   "metadata": {},
   "outputs": [],
   "source": [
    "inputs2 = tok(text2, max_length=8, padding='max_length', return_tensors=None, add_special_tokens=False)"
   ]
  },
  {
   "cell_type": "code",
   "execution_count": 64,
   "id": "2d0310cf",
   "metadata": {},
   "outputs": [],
   "source": [
    "input_batch2  = inputs2['input_ids']\n",
    "input_batch = inputs2['input_ids'][0]"
   ]
  },
  {
   "cell_type": "code",
   "execution_count": 65,
   "id": "8bdf20a6",
   "metadata": {},
   "outputs": [
    {
     "data": {
      "text/plain": [
       "[2025, 3649, 8379, 25, 530, 11, 50256, 50256]"
      ]
     },
     "execution_count": 65,
     "metadata": {},
     "output_type": "execute_result"
    }
   ],
   "source": [
    "input_batch"
   ]
  },
  {
   "cell_type": "code",
   "execution_count": 66,
   "id": "f50a0b6d",
   "metadata": {},
   "outputs": [
    {
     "data": {
      "text/plain": [
       "[[2025, 3649, 8379, 25, 530, 11, 50256, 50256],\n",
       " [40, 1842, 11618, 11, 780, 50256, 50256, 50256],\n",
       " [464, 4511, 8598, 287, 262, 995, 318, 50256],\n",
       " [464, 4387, 1499, 287, 262, 995, 318, 50256],\n",
       " [464, 4387, 7850, 287, 2807, 318, 50256, 50256],\n",
       " [29974, 11656, 318, 5140, 50256, 50256, 50256, 50256],\n",
       " [464, 3265, 287, 2807, 318, 50256, 50256, 50256],\n",
       " [464, 17226, 12134, 547, 15646, 287, 50256, 50256]]"
      ]
     },
     "execution_count": 66,
     "metadata": {},
     "output_type": "execute_result"
    }
   ],
   "source": [
    "input_batch2"
   ]
  },
  {
   "cell_type": "code",
   "execution_count": 67,
   "id": "50c3b0a8",
   "metadata": {},
   "outputs": [],
   "source": [
    "streamer = TextStreamer(tok, skip_prompt=False)"
   ]
  },
  {
   "cell_type": "code",
   "execution_count": 71,
   "id": "0d2a2d79",
   "metadata": {},
   "outputs": [
    {
     "name": "stdout",
     "output_type": "stream",
     "text": [
      "An increasing sequence: one, two, three, four, five, six, seven, eight,\n",
      "2023-09-11 15:53:09,303 - mindformers - INFO - total time: 1.645613431930542 s; generated tokens: 14 tokens; generate speed: 8.507465804758278 tokens/s\n"
     ]
    }
   ],
   "source": [
    "# 不做线程, 单条输入\n",
    "_ = model.generate(input_batch, streamer=streamer, max_length=20, top_k=1)"
   ]
  },
  {
   "cell_type": "code",
   "execution_count": 73,
   "id": "498a152a",
   "metadata": {},
   "outputs": [
    {
     "name": "stdout",
     "output_type": "stream",
     "text": [
      "['An increasing sequence: one, two, three, four, five, six, seven, eight,', \"I love Beijing, because it's a beautiful city. It's a beautiful city. It's a\", 'The highest mountain in the world is the Himalayas, which is the highest mountain in the world', 'The largest country in the world is the United States, with a population of 1.3 billion.', 'The largest river in China is the Yangtze River, which flows through the heart of the country', 'Singapore is located in the middle of the South China Sea, and is a major shipping route for', 'The population in China is growing at a rate of about 1.5 percent per year, according to', 'The atomic bombs were invented in the early 1950s by the United States and Britain. The United States']\n",
      "2023-09-11 15:53:37,407 - mindformers - INFO - total time: 11.205190181732178 s; generated tokens: 114 tokens; generate speed: 10.173856770932296 tokens/s\n"
     ]
    }
   ],
   "source": [
    "# 不做线程, batch输入\n",
    "output = model.generate(input_batch2, streamer=streamer, max_length=20, top_k=1)"
   ]
  },
  {
   "cell_type": "markdown",
   "id": "dda8b4cb",
   "metadata": {},
   "source": [
    "### 开线程使用"
   ]
  },
  {
   "cell_type": "code",
   "execution_count": 95,
   "id": "1b9eb07b",
   "metadata": {},
   "outputs": [],
   "source": [
    "iter_streamer = TextIteratorStreamer(tok)"
   ]
  },
  {
   "cell_type": "code",
   "execution_count": 96,
   "id": "026b3c79",
   "metadata": {},
   "outputs": [],
   "source": [
    "# 单输入\n",
    "from threading import Thread\n",
    "generation_kwargs = dict(\n",
    "    input_ids=input_batch,\n",
    "    streamer=iter_streamer,\n",
    "    max_length=20,\n",
    "    top_k=1\n",
    ")"
   ]
  },
  {
   "cell_type": "code",
   "execution_count": 97,
   "id": "702b8b03",
   "metadata": {},
   "outputs": [],
   "source": [
    "thread = Thread(target=model.generate, kwargs=generation_kwargs)\n",
    "thread.start()"
   ]
  },
  {
   "cell_type": "code",
   "execution_count": 98,
   "id": "d0476515",
   "metadata": {},
   "outputs": [
    {
     "name": "stdout",
     "output_type": "stream",
     "text": [
      "2023-09-11 16:03:09,849 - mindformers - INFO - total time: 1.6586799621582031 s; generated tokens: 14 tokens; generate speed: 8.440446812767787 tokens/s\n"
     ]
    },
    {
     "data": {
      "text/plain": [
       "'An increasing sequence: one, two, three, four, five, six, seven, eight,'"
      ]
     },
     "execution_count": 98,
     "metadata": {},
     "output_type": "execute_result"
    }
   ],
   "source": [
    "generated_text = \"\"\n",
    "for new_text in iter_streamer:\n",
    "    generated_text += new_text\n",
    "generated_text"
   ]
  },
  {
   "cell_type": "code",
   "execution_count": 107,
   "id": "f5d2b9a0",
   "metadata": {},
   "outputs": [],
   "source": [
    "# batch输入\n",
    "from threading import Thread\n",
    "generation_kwargs = dict(\n",
    "    input_ids=input_batch2,\n",
    "    streamer=iter_streamer,\n",
    "    max_length=20,\n",
    "    top_k=1\n",
    ")"
   ]
  },
  {
   "cell_type": "code",
   "execution_count": 108,
   "id": "0b567371",
   "metadata": {},
   "outputs": [],
   "source": [
    "thread = Thread(target=model.generate, kwargs=generation_kwargs)\n",
    "thread.start()"
   ]
  },
  {
   "cell_type": "code",
   "execution_count": 109,
   "id": "6eda8a07",
   "metadata": {},
   "outputs": [
    {
     "name": "stdout",
     "output_type": "stream",
     "text": [
      "thread.start! \n",
      "streamer_batch: ['An increasing sequence: one,', 'I love Beijing, because', 'The highest mountain in the world is', 'The largest country in the world is', 'The largest river in China is', 'Singapore is located', 'The population in China is', 'The atomic bombs were invented in']\n",
      "streamer_batch: [' two', ' it', ' the', ' the', ' the', ' in', ' growing', ' the']\n",
      "streamer_batch: [',', \"'s\", ' Himal', ' United', ' Yang', ' the', ' at', ' early']\n",
      "streamer_batch: [' three', ' a', 'ay', ' States', 't', ' middle', ' a', ' 1950']\n",
      "streamer_batch: [',', ' beautiful', 'as', ',', 'ze', ' of', ' rate', 's']\n",
      "streamer_batch: [' four', ' city', ',', ' with', ' River', ' the', ' of', ' by']\n",
      "streamer_batch: [',', '.', ' which', ' a', ',', ' South', ' about', ' the']\n",
      "streamer_batch: [' five', ' It', ' is', ' population', ' which', ' China', ' 1', ' United']\n",
      "streamer_batch: [',', \"'s\", ' the', ' of', ' flows', ' Sea', '.', ' States']\n",
      "streamer_batch: [' six', ' a', ' highest', ' 1', ' through', ',', '5', ' and']\n",
      "streamer_batch: [',', ' beautiful', ' mountain', '.', ' the', ' and', ' percent', ' Britain']\n",
      "streamer_batch: [' seven', ' city', ' in', '3', ' heart', ' is', ' per', '.']\n",
      "streamer_batch: [',', '.', ' the', ' billion', ' of', ' a', ' year', ' The']\n",
      "streamer_batch: [' eight', ' It', ' world', '.', ' the', ' major', ',', ' United']\n",
      "streamer_batch: [',', \"'s\", '', '', ' country', ' shipping', ' according', ' States']\n",
      "streamer_batch: ['', ' a', '', '', '', ' route', ' to', '']\n",
      "streamer_batch: ['', '', '', '', '', ' for', '', '']\n",
      "2023-09-11 16:28:42,956 - mindformers - INFO - total time: 11.041947603225708 s; generated tokens: 114 tokens; generate speed: 10.32426561838574 tokens/s\n",
      " ===== For loop over! ===== \n"
     ]
    }
   ],
   "source": [
    "output = [\"\"] * len(input_batch2)\n",
    "print(\"thread.start! \")\n",
    "for new_text in iter_streamer:\n",
    "    print(\"streamer_batch:\", new_text)\n",
    "    for i in range(len(input_batch2)):\n",
    "        output[i] += new_text[i]\n",
    "print(\" ===== For loop over! ===== \")"
   ]
  },
  {
   "cell_type": "code",
   "execution_count": 110,
   "id": "1d262826",
   "metadata": {},
   "outputs": [
    {
     "data": {
      "text/plain": [
       "['An increasing sequence: one, two, three, four, five, six, seven, eight,',\n",
       " \"I love Beijing, because it's a beautiful city. It's a beautiful city. It's a\",\n",
       " 'The highest mountain in the world is the Himalayas, which is the highest mountain in the world',\n",
       " 'The largest country in the world is the United States, with a population of 1.3 billion.',\n",
       " 'The largest river in China is the Yangtze River, which flows through the heart of the country',\n",
       " 'Singapore is located in the middle of the South China Sea, and is a major shipping route for',\n",
       " 'The population in China is growing at a rate of about 1.5 percent per year, according to',\n",
       " 'The atomic bombs were invented in the early 1950s by the United States and Britain. The United States']"
      ]
     },
     "execution_count": 110,
     "metadata": {},
     "output_type": "execute_result"
    }
   ],
   "source": [
    "output"
   ]
  },
  {
   "cell_type": "code",
   "execution_count": 112,
   "id": "ae58eb3b",
   "metadata": {},
   "outputs": [],
   "source": [
    "a = ['An increasing sequence: one, two, three, four, five, six, seven, eight,',\n",
    " \"I love Beijing, because it's a beautiful city. It's a beautiful city. It's a\",\n",
    " 'The highest mountain in the world is the Himalayas, which is the highest mountain in the world',\n",
    " 'The largest country in the world is the United States, with a population of 1.3 billion.',\n",
    " 'The largest river in China is the Yangtze River, which flows through the heart of the country',\n",
    " 'Singapore is located in the middle of the South China Sea, and is a major shipping route for',\n",
    " 'The population in China is growing at a rate of about 1.5 percent per year, according to',\n",
    " 'The atomic bombs were invented in the early 1950s by the United States and Britain. The United States']"
   ]
  },
  {
   "cell_type": "code",
   "execution_count": 113,
   "id": "5595c711",
   "metadata": {},
   "outputs": [
    {
     "data": {
      "text/plain": [
       "True"
      ]
     },
     "execution_count": 113,
     "metadata": {},
     "output_type": "execute_result"
    }
   ],
   "source": [
    "a == output"
   ]
  },
  {
   "cell_type": "code",
   "execution_count": null,
   "id": "da38fb9a",
   "metadata": {},
   "outputs": [],
   "source": []
  }
 ],
 "metadata": {
  "kernelspec": {
   "display_name": "Python 3 (ipykernel)",
   "language": "python",
   "name": "python3"
  },
  "language_info": {
   "codemirror_mode": {
    "name": "ipython",
    "version": 3
   },
   "file_extension": ".py",
   "mimetype": "text/x-python",
   "name": "python",
   "nbconvert_exporter": "python",
   "pygments_lexer": "ipython3",
   "version": "3.7.16"
  }
 },
 "nbformat": 4,
 "nbformat_minor": 5
}
